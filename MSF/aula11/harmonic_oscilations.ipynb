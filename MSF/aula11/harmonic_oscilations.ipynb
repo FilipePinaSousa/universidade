{
 "cells": [
  {
   "attachments": {},
   "cell_type": "markdown",
   "metadata": {},
   "source": [
    "12. Um corpo de massa 1 kg move-se num oscilador duplo, com dois pontos de equilíbrio,$x_{eq}$ = 1.5 m. O oscilador tem a energia potencial\n",
    "    $$E_p = \\frac{1}{2}k(x^2-x^2_{eq})^2$$\n",
    "    exerce no corpo a força\n",
    "    $$F_x = -2k(x^2-x^2_{eq})x$$\n",
    "    onde $k = 1$ N/m.\n"
   ]
  },
  {
   "attachments": {},
   "cell_type": "markdown",
   "metadata": {},
   "source": [
    "a) Faça o diagrama de energia desta energia potencial (energia potencial em função do espaço). Qual o movimento\n",
    "quando a energia total for menor que 1 J?\n"
   ]
  },
  {
   "cell_type": "code",
   "execution_count": null,
   "metadata": {},
   "outputs": [],
   "source": [
    "# Imports\n",
    "import numpy as np\n",
    "import matplotlib.pyplot as plt"
   ]
  },
  {
   "cell_type": "code",
   "execution_count": null,
   "metadata": {},
   "outputs": [],
   "source": [
    "# Variables\n",
    "\n",
    "equilibrium_point = 1.5\n",
    "k = 1\n",
    "m = 1"
   ]
  },
  {
   "cell_type": "code",
   "execution_count": null,
   "metadata": {},
   "outputs": [],
   "source": [
    "# Time\n",
    "\n",
    "time_step = 0.0001\n",
    "t_start = 0\n",
    "t_end = 20\n",
    "n = int((t_end - t_start) / time_step)\n",
    "time = np.zeros(n)"
   ]
  },
  {
   "cell_type": "code",
   "execution_count": null,
   "metadata": {},
   "outputs": [],
   "source": [
    "def potential_energy(r):\n",
    "    return 0.5 * k * (r**2 - equilibrium_point**2) ** 2"
   ]
  },
  {
   "cell_type": "code",
   "execution_count": null,
   "metadata": {},
   "outputs": [],
   "source": [
    "def force(r, v, a):\n",
    "    return -2 * k * (r**2 - equilibrium_point**2) * r"
   ]
  }
 ],
 "metadata": {
  "kernelspec": {
   "display_name": "Python 3",
   "language": "python",
   "name": "python3"
  },
  "language_info": {
   "name": "python",
   "version": "3.10.6"
  },
  "orig_nbformat": 4
 },
 "nbformat": 4,
 "nbformat_minor": 2
}
